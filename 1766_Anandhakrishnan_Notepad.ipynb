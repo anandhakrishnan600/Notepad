{
 "cells": [
  {
   "cell_type": "code",
   "execution_count": 5,
   "id": "ab9c7c7d-8ea2-43d4-b7a6-d64e6925f4fd",
   "metadata": {},
   "outputs": [],
   "source": [
    "import tkinter as tk\n",
    "from tkinter import filedialog, messagebox\n",
    "\n",
    "class ThenotepadApp:\n",
    "    def __init__(self, root):\n",
    "        self.root = root\n",
    "        self.root.title(\"The Notepad App\")\n",
    "        \n",
    "        self.text_widget = tk.Text(root)\n",
    "        self.text_widget.pack(expand=True, fill=\"both\")\n",
    "        \n",
    "        self.create_menu()\n",
    "\n",
    "    def create_menu(self):\n",
    "        menubar = tk.Menu(self.root)\n",
    "        self.root.config(menu=menubar)\n",
    "        \n",
    "        file_menu = tk.Menu(menubar, tearoff=0)\n",
    "        menubar.add_cascade(label=\"File\", menu=file_menu)\n",
    "        \n",
    "        file_menu.add_command(label=\"New\", command=self.new_file)\n",
    "        file_menu.add_command(label=\"Open\", command=self.open_file)\n",
    "        file_menu.add_command(label=\"Save\", command=self.save_file)\n",
    "        file_menu.add_separator()\n",
    "        file_menu.add_command(label=\"Exit\", command=self.root.quit)\n",
    "\n",
    "    def new_file(self):\n",
    "        self.text_widget.delete(1.0, tk.END)\n",
    "\n",
    "    def open_file(self):\n",
    "        file_path = filedialog.askopenfilename(filetypes=[(\"Text Files\", \"*.txt\"), (\"All Files\", \"*.*\")])\n",
    "        if file_path:\n",
    "            with open(file_path, \"r\") as file:\n",
    "                self.text_widget.delete(1.0, tk.END)\n",
    "                self.text_widget.insert(tk.END, file.read())\n",
    "\n",
    "    def save_file(self):\n",
    "        file_path = filedialog.asksaveasfilename(defaultextension=\".txt\", filetypes=[(\"Text Files\", \"*.txt\"), (\"All Files\", \"*.*\")])\n",
    "        if file_path:\n",
    "            with open(file_path, \"w\") as file:\n",
    "                file.write(self.text_widget.get(1.0, tk.END))\n",
    "            messagebox.showinfo(\"Info\", \"File saved successfully.\")\n",
    "\n",
    "if __name__ == \"__main__\":\n",
    "    root = tk.Tk()\n",
    "    app = ThenotepadApp(root)\n",
    "    root.mainloop()\n"
   ]
  },
  {
   "cell_type": "code",
   "execution_count": null,
   "id": "10c50d2c-2da3-435e-ab3c-f8fed939e6a0",
   "metadata": {},
   "outputs": [],
   "source": []
  }
 ],
 "metadata": {
  "kernelspec": {
   "display_name": "Python 3 (ipykernel)",
   "language": "python",
   "name": "python3"
  },
  "language_info": {
   "codemirror_mode": {
    "name": "ipython",
    "version": 3
   },
   "file_extension": ".py",
   "mimetype": "text/x-python",
   "name": "python",
   "nbconvert_exporter": "python",
   "pygments_lexer": "ipython3",
   "version": "3.12.4"
  }
 },
 "nbformat": 4,
 "nbformat_minor": 5
}
